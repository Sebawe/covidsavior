{
  "nbformat": 4,
  "nbformat_minor": 0,
  "metadata": {
    "colab": {
      "name": "modelTest.ipynb",
      "provenance": [],
      "collapsed_sections": []
    },
    "kernelspec": {
      "name": "python3",
      "display_name": "Python 3"
    }
  },
  "cells": [
    {
      "cell_type": "markdown",
      "metadata": {
        "id": "zpo26QaNYmw0",
        "colab_type": "text"
      },
      "source": [
        "# Import libraries"
      ]
    },
    {
      "cell_type": "code",
      "metadata": {
        "id": "W2LGcEZOWl67",
        "colab_type": "code",
        "colab": {
          "base_uri": "https://localhost:8080/",
          "height": 72
        },
        "outputId": "304f45e2-5b0d-48cf-b480-af1bf3df139e"
      },
      "source": [
        "# -- coding:utf-8 --\n",
        "import pandas as pd\n",
        "import numpy as np\n",
        "import os\n",
        "from os.path import join as pjoin\n",
        "\n",
        "# from utils import is_number\n",
        "\n",
        "import matplotlib.pyplot as plt\n",
        "import seaborn as sns\n",
        "import warnings\n",
        "\n",
        "import xgboost as xgb\n",
        "from sklearn.model_selection import StratifiedKFold\n",
        "from sklearn.model_selection import train_test_split\n",
        "from sklearn.metrics import f1_score\n",
        "from matplotlib import pyplot as plt\n",
        "from matplotlib.colors import ListedColormap\n",
        "\n",
        "from sklearn import metrics\n",
        "from sklearn.metrics import classification_report\n",
        "from sklearn import preprocessing\n",
        "\n",
        "from mpl_toolkits.mplot3d import Axes3D\n",
        "#import utils\n",
        "from sklearn.metrics import roc_auc_score\n",
        "from sklearn.metrics import roc_curve, auc\n",
        "import matplotlib as mpl"
      ],
      "execution_count": 2,
      "outputs": [
        {
          "output_type": "stream",
          "text": [
            "/usr/local/lib/python3.6/dist-packages/statsmodels/tools/_testing.py:19: FutureWarning: pandas.util.testing is deprecated. Use the functions in the public API at pandas.testing instead.\n",
            "  import pandas.util.testing as tm\n"
          ],
          "name": "stderr"
        }
      ]
    },
    {
      "cell_type": "markdown",
      "metadata": {
        "id": "64i4mOUjY0Gj",
        "colab_type": "text"
      },
      "source": [
        "# Data Pre Processing"
      ]
    },
    {
      "cell_type": "code",
      "metadata": {
        "id": "kdEFwYHWiK43",
        "colab_type": "code",
        "colab": {}
      },
      "source": [
        "################################\n",
        "## Read data functions\n",
        "###############################\n",
        "\n",
        "def read_train_data(path_train):\n",
        "    data_df = pd.read_excel(path_train, encoding='gbk', index_col=[0, 1])  # train_sample_375_v2 train_sample_351_v4\n",
        "    \n",
        "    # Debugging, SS\n",
        "    #with pd.option_context('display.max_rows', 10, 'display.max_columns', 12):  # more options can be specified also\n",
        "    #  print(data_df)\n",
        "    data_df = data_df.groupby('PATIENT_ID').last()\n",
        "    lable = data_df['outcome'].values\n",
        "    data_df = data_df.drop(['outcome', 'Admission time', 'Discharge time'], axis=1)\n",
        "    data_df['Type2'] = lable\n",
        "    data_df = data_df.applymap(lambda x: x.replace('>', '').replace('<', '') if isinstance(x, str) else x)\n",
        "    data_df = data_df.applymap(lambda x: x if is_number(x) else -1)\n",
        "    # data_df = data_df.loc[:, data_df.isnull().mean() < 0.2]\n",
        "    data_df = data_df.astype(float)\n",
        "\n",
        "    return data_df\n",
        "\n",
        "\n",
        "def data_preprocess():\n",
        "    path_train = 'time_series_375_prerpocess_en.xlsx'  # to_ml\n",
        "    data_df_unna = read_train_data(path_train)\n",
        "\n",
        "    # Reads the excel as it is, SS\n",
        "    data_pre_df = pd.read_excel('time_series_test_110_preprocess_en.xlsx', index_col=[0, 1], encoding='gbk')\n",
        "    #with pd.option_context('display.max_rows', 10, 'display.max_columns', 12):  # more options can be specified also\n",
        "    #  print(\"data_pre_df excel\", data_pre_df)\n",
        "\n",
        "    # Removes NaN, merges rows by filling empty cells form previous rows, SS\n",
        "    # Sorts them so that the latest row (the one with the most amount of data) becomes the first row, SS\n",
        "    data_pre_df = merge_data_by_sliding_window(data_pre_df, n_days=1, dropna=True, subset= top3_feats_cols,\n",
        "                                                     time_form='diff')\n",
        "    #with pd.option_context('display.max_rows', 10, 'display.max_columns', 12):  # more options can be specified also\n",
        "    #  print(\"data_pre_df sliding window\", data_pre_df)\n",
        "\n",
        "    # Creates a new index and chooses the first row (the row that we need only), SS\n",
        "    data_pre_df = data_pre_df.groupby('PATIENT_ID').first().reset_index()\n",
        "    #with pd.option_context('display.max_rows', 10, 'display.max_columns', 12):  # more options can be specified also\n",
        "    #  print(\"data_pre_df sliding group by\", data_pre_df)\n",
        "\n",
        "    # Replaces (<, >) with blank in case that test results came out this way, SS\n",
        "    data_pre_df = data_pre_df.applymap(lambda x: x.replace('>', '').replace('<', '') if isinstance(x, str) else x)\n",
        "    #with pd.option_context('display.max_rows', 10, 'display.max_columns', 12):  # more options can be specified also\n",
        "    #  print(\"data_pre_df sliding applymap\", data_pre_df)\n",
        "\n",
        "    # Removes duplicates just in case if there was duplicates, SS\n",
        "    data_pre_df = data_pre_df.drop_duplicates()\n",
        "    #with pd.option_context('display.max_rows', 10, 'display.max_columns', 12):  # more options can be specified also\n",
        "    #  print(\"data_pre_df sliding drop_dup\", data_pre_df)\n",
        "\n",
        "    return data_df_unna, data_pre_df\n",
        "\n",
        "    \n",
        "### is_number in the read data\n",
        "def is_number(s):\n",
        "    if s is None:\n",
        "        s = np.nan\n",
        "\n",
        "    try:\n",
        "        float(s)\n",
        "        return True\n",
        "    except ValueError:\n",
        "        pass\n",
        "\n",
        "    try:\n",
        "        import unicodedata\n",
        "        unicodedata.numeric(s)\n",
        "        return True\n",
        "    except (TypeError, ValueError):\n",
        "        pass\n",
        "\n",
        "    return False"
      ],
      "execution_count": 4,
      "outputs": []
    },
    {
      "cell_type": "markdown",
      "metadata": {
        "id": "sm0A-VQvYuxr",
        "colab_type": "text"
      },
      "source": [
        "# Testing data"
      ]
    }
  ]
}